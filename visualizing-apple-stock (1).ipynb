{
 "cells": [
  {
   "cell_type": "markdown",
   "id": "08008c84",
   "metadata": {
    "papermill": {
     "duration": 0.003684,
     "end_time": "2023-02-05T02:39:47.418321",
     "exception": false,
     "start_time": "2023-02-05T02:39:47.414637",
     "status": "completed"
    },
    "tags": []
   },
   "source": [
    "To start my kaggle journey, I opted to visualizing the apple stock over the past 10 years. Hopefully, the first of many notebooks.\n",
    "<br>\n",
    "blank\n"
   ]
  },
  {
   "cell_type": "code",
   "execution_count": 1,
   "id": "ce58587a",
   "metadata": {
    "_cell_guid": "b1076dfc-b9ad-4769-8c92-a6c4dae69d19",
    "_kg_hide-input": true,
    "_uuid": "8f2839f25d086af736a60e9eeb907d3b93b6e0e5",
    "execution": {
     "iopub.execute_input": "2023-02-05T02:39:47.425723Z",
     "iopub.status.busy": "2023-02-05T02:39:47.425236Z",
     "iopub.status.idle": "2023-02-05T02:39:48.493119Z",
     "shell.execute_reply": "2023-02-05T02:39:48.492220Z"
    },
    "papermill": {
     "duration": 1.074475,
     "end_time": "2023-02-05T02:39:48.495558",
     "exception": false,
     "start_time": "2023-02-05T02:39:47.421083",
     "status": "completed"
    },
    "tags": []
   },
   "outputs": [
    {
     "name": "stdout",
     "output_type": "stream",
     "text": [
      "/kaggle/input/most-watched-stocks-of-past-decade20132023/XOM(Exxon Mobile).csv\n",
      "/kaggle/input/most-watched-stocks-of-past-decade20132023/F(Ford Motor Company).csv\n",
      "/kaggle/input/most-watched-stocks-of-past-decade20132023/META(Meta).csv\n",
      "/kaggle/input/most-watched-stocks-of-past-decade20132023/INTC(Intel Corporation).csv\n",
      "/kaggle/input/most-watched-stocks-of-past-decade20132023/KO(Coco Cola Company).csv\n",
      "/kaggle/input/most-watched-stocks-of-past-decade20132023/CSCO(Cisco Systems).csv\n",
      "/kaggle/input/most-watched-stocks-of-past-decade20132023/EA(Electronic Arts).csv\n",
      "/kaggle/input/most-watched-stocks-of-past-decade20132023/YELP(Yelp Inc).csv\n",
      "/kaggle/input/most-watched-stocks-of-past-decade20132023/WMT(Wallmart).csv\n",
      "/kaggle/input/most-watched-stocks-of-past-decade20132023/DIS(Walt Disney).csv\n",
      "/kaggle/input/most-watched-stocks-of-past-decade20132023/BABA(Ali baba)(From 2014).csv\n",
      "/kaggle/input/most-watched-stocks-of-past-decade20132023/ATVI(Activision).csv\n",
      "/kaggle/input/most-watched-stocks-of-past-decade20132023/TTD(Trade desk inc)(from 2016).csv\n",
      "/kaggle/input/most-watched-stocks-of-past-decade20132023/TSLA(Tesla).csv\n",
      "/kaggle/input/most-watched-stocks-of-past-decade20132023/NVDA(Nvidia).csv\n",
      "/kaggle/input/most-watched-stocks-of-past-decade20132023/MSFT(Microsoft).csv\n",
      "/kaggle/input/most-watched-stocks-of-past-decade20132023/ZG(Zillow Group).csv\n",
      "/kaggle/input/most-watched-stocks-of-past-decade20132023/AMD(AMD).csv\n",
      "/kaggle/input/most-watched-stocks-of-past-decade20132023/AAPL(Apple).csv\n",
      "/kaggle/input/most-watched-stocks-of-past-decade20132023/AMZN(Amazon).csv\n",
      "/kaggle/input/most-watched-stocks-of-past-decade20132023/NFLX(Netflix).csv\n",
      "/kaggle/input/most-watched-stocks-of-past-decade20132023/BAC(Bank of America Coorporation).csv\n",
      "/kaggle/input/most-watched-stocks-of-past-decade20132023/PFE(Pfizer Inc).csv\n",
      "/kaggle/input/most-watched-stocks-of-past-decade20132023/CRM(Salesforce).csv\n",
      "/kaggle/input/most-watched-stocks-of-past-decade20132023/T(AT and T).csv\n",
      "/kaggle/input/most-watched-stocks-of-past-decade20132023/GOOG(Google).csv\n",
      "/kaggle/input/most-watched-stocks-of-past-decade20132023/JPM(JPMorgan Chase and Co).csv\n",
      "/kaggle/input/most-watched-stocks-of-past-decade20132023/MTCH(Match Group).csv\n",
      "/kaggle/input/most-watched-stocks-of-past-decade20132023/MCD(Mcdonald).csv\n",
      "/kaggle/input/most-watched-stocks-of-past-decade20132023/PYPL(Paypal)(from 2015).csv\n"
     ]
    }
   ],
   "source": [
    "# This Python 3 environment comes with many helpful analytics libraries installed\n",
    "# It is defined by the kaggle/python Docker image: https://github.com/kaggle/docker-python\n",
    "# For example, here's several helpful packages to load\n",
    "\n",
    "import numpy as np # linear algebra\n",
    "import pandas as pd # data processing, CSV file I/O (e.g. pd.read_csv)\n",
    "pd.plotting.register_matplotlib_converters()\n",
    "from datetime import datetime\n",
    "\n",
    "import matplotlib.pyplot as plt\n",
    "%matplotlib inline\n",
    "import seaborn as sns\n",
    "# Input data files are available in the read-only \"../input/\" directory\n",
    "# For example, running this (by clicking run or pressing Shift+Enter) will list all files under the input directory\n",
    "\n",
    "import os\n",
    "for dirname, _, filenames in os.walk('/kaggle/input'):\n",
    "    for filename in filenames:\n",
    "        print(os.path.join(dirname, filename))\n",
    "\n",
    "# You can write up to 20GB to the current directory (/kaggle/working/) that gets preserved as output when you create a version using \"Save & Run All\" \n",
    "# You can also write temporary files to /kaggle/temp/, but they won't be saved outside of the current session"
   ]
  },
  {
   "cell_type": "code",
   "execution_count": 2,
   "id": "e58e0627",
   "metadata": {
    "execution": {
     "iopub.execute_input": "2023-02-05T02:39:48.502871Z",
     "iopub.status.busy": "2023-02-05T02:39:48.502326Z",
     "iopub.status.idle": "2023-02-05T02:39:48.554617Z",
     "shell.execute_reply": "2023-02-05T02:39:48.553367Z"
    },
    "papermill": {
     "duration": 0.058919,
     "end_time": "2023-02-05T02:39:48.557467",
     "exception": false,
     "start_time": "2023-02-05T02:39:48.498548",
     "status": "completed"
    },
    "tags": []
   },
   "outputs": [
    {
     "data": {
      "text/html": [
       "<div>\n",
       "<style scoped>\n",
       "    .dataframe tbody tr th:only-of-type {\n",
       "        vertical-align: middle;\n",
       "    }\n",
       "\n",
       "    .dataframe tbody tr th {\n",
       "        vertical-align: top;\n",
       "    }\n",
       "\n",
       "    .dataframe thead th {\n",
       "        text-align: right;\n",
       "    }\n",
       "</style>\n",
       "<table border=\"1\" class=\"dataframe\">\n",
       "  <thead>\n",
       "    <tr style=\"text-align: right;\">\n",
       "      <th></th>\n",
       "      <th>Open</th>\n",
       "      <th>High</th>\n",
       "      <th>Low</th>\n",
       "      <th>Close</th>\n",
       "      <th>Adj Close</th>\n",
       "      <th>Volume</th>\n",
       "    </tr>\n",
       "    <tr>\n",
       "      <th>Date</th>\n",
       "      <th></th>\n",
       "      <th></th>\n",
       "      <th></th>\n",
       "      <th></th>\n",
       "      <th></th>\n",
       "      <th></th>\n",
       "    </tr>\n",
       "  </thead>\n",
       "  <tbody>\n",
       "    <tr>\n",
       "      <th>2013-01-02</th>\n",
       "      <td>19.779285</td>\n",
       "      <td>19.821428</td>\n",
       "      <td>19.343929</td>\n",
       "      <td>19.608213</td>\n",
       "      <td>16.862818</td>\n",
       "      <td>560518000</td>\n",
       "    </tr>\n",
       "    <tr>\n",
       "      <th>2013-01-03</th>\n",
       "      <td>19.567142</td>\n",
       "      <td>19.631071</td>\n",
       "      <td>19.321428</td>\n",
       "      <td>19.360714</td>\n",
       "      <td>16.649981</td>\n",
       "      <td>352965200</td>\n",
       "    </tr>\n",
       "    <tr>\n",
       "      <th>2013-01-04</th>\n",
       "      <td>19.177500</td>\n",
       "      <td>19.236786</td>\n",
       "      <td>18.779642</td>\n",
       "      <td>18.821428</td>\n",
       "      <td>16.186199</td>\n",
       "      <td>594333600</td>\n",
       "    </tr>\n",
       "    <tr>\n",
       "      <th>2013-01-07</th>\n",
       "      <td>18.642857</td>\n",
       "      <td>18.903570</td>\n",
       "      <td>18.400000</td>\n",
       "      <td>18.710714</td>\n",
       "      <td>16.090986</td>\n",
       "      <td>484156400</td>\n",
       "    </tr>\n",
       "    <tr>\n",
       "      <th>2013-01-08</th>\n",
       "      <td>18.900356</td>\n",
       "      <td>18.996071</td>\n",
       "      <td>18.616072</td>\n",
       "      <td>18.761070</td>\n",
       "      <td>16.134293</td>\n",
       "      <td>458707200</td>\n",
       "    </tr>\n",
       "  </tbody>\n",
       "</table>\n",
       "</div>"
      ],
      "text/plain": [
       "                 Open       High        Low      Close  Adj Close     Volume\n",
       "Date                                                                        \n",
       "2013-01-02  19.779285  19.821428  19.343929  19.608213  16.862818  560518000\n",
       "2013-01-03  19.567142  19.631071  19.321428  19.360714  16.649981  352965200\n",
       "2013-01-04  19.177500  19.236786  18.779642  18.821428  16.186199  594333600\n",
       "2013-01-07  18.642857  18.903570  18.400000  18.710714  16.090986  484156400\n",
       "2013-01-08  18.900356  18.996071  18.616072  18.761070  16.134293  458707200"
      ]
     },
     "execution_count": 2,
     "metadata": {},
     "output_type": "execute_result"
    }
   ],
   "source": [
    "apple_filepath = \"/kaggle/input/most-watched-stocks-of-past-decade20132023/AAPL(Apple).csv\"\n",
    "\n",
    "apple_data = pd.read_csv(apple_filepath, index_col=\"Date\", parse_dates=True)\n",
    "apple_data.head()"
   ]
  },
  {
   "cell_type": "markdown",
   "id": "fa522e19",
   "metadata": {
    "papermill": {
     "duration": 0.003256,
     "end_time": "2023-02-05T02:39:48.564719",
     "exception": false,
     "start_time": "2023-02-05T02:39:48.561463",
     "status": "completed"
    },
    "tags": []
   },
   "source": [
    "Droping the volume column because it will mess with the plot"
   ]
  },
  {
   "cell_type": "code",
   "execution_count": 3,
   "id": "a13265df",
   "metadata": {
    "execution": {
     "iopub.execute_input": "2023-02-05T02:39:48.573950Z",
     "iopub.status.busy": "2023-02-05T02:39:48.572913Z",
     "iopub.status.idle": "2023-02-05T02:39:48.579910Z",
     "shell.execute_reply": "2023-02-05T02:39:48.579052Z"
    },
    "papermill": {
     "duration": 0.013878,
     "end_time": "2023-02-05T02:39:48.581774",
     "exception": false,
     "start_time": "2023-02-05T02:39:48.567896",
     "status": "completed"
    },
    "tags": []
   },
   "outputs": [],
   "source": [
    "no_volume_df = apple_data.drop('Volume', axis=1)"
   ]
  },
  {
   "cell_type": "markdown",
   "id": "2172ad07",
   "metadata": {
    "papermill": {
     "duration": 0.002873,
     "end_time": "2023-02-05T02:39:48.587749",
     "exception": false,
     "start_time": "2023-02-05T02:39:48.584876",
     "status": "completed"
    },
    "tags": []
   },
   "source": [
    "Displaying stock prices in a lineplot"
   ]
  },
  {
   "cell_type": "code",
   "execution_count": 4,
   "id": "6c6a292a",
   "metadata": {
    "execution": {
     "iopub.execute_input": "2023-02-05T02:39:48.594683Z",
     "iopub.status.busy": "2023-02-05T02:39:48.594366Z",
     "iopub.status.idle": "2023-02-05T02:39:49.358597Z",
     "shell.execute_reply": "2023-02-05T02:39:49.357616Z"
    },
    "papermill": {
     "duration": 0.770043,
     "end_time": "2023-02-05T02:39:49.360566",
     "exception": false,
     "start_time": "2023-02-05T02:39:48.590523",
     "status": "completed"
    },
    "tags": []
   },
   "outputs": [
    {
     "data": {
      "text/plain": [
       "<AxesSubplot:xlabel='Date'>"
      ]
     },
     "execution_count": 4,
     "metadata": {},
     "output_type": "execute_result"
    },
    {
     "data": {
      "image/png": "[encoded data removed]",
      "text/plain": [
       "<Figure size 1008x504 with 1 Axes>"
      ]
     },
     "metadata": {
      "needs_background": "light"
     },
     "output_type": "display_data"
    }
   ],
   "source": [
    "plt.figure(figsize=(14, 7))\n",
    "\n",
    "sns.lineplot(data=no_volume_df)"
   ]
  },
  {
   "cell_type": "code",
   "execution_count": 5,
   "id": "cd7477ef",
   "metadata": {
    "_kg_hide-input": true,
    "execution": {
     "iopub.execute_input": "2023-02-05T02:39:49.369938Z",
     "iopub.status.busy": "2023-02-05T02:39:49.369570Z",
     "iopub.status.idle": "2023-02-05T02:39:49.376528Z",
     "shell.execute_reply": "2023-02-05T02:39:49.374761Z"
    },
    "papermill": {
     "duration": 0.014216,
     "end_time": "2023-02-05T02:39:49.378649",
     "exception": false,
     "start_time": "2023-02-05T02:39:49.364433",
     "status": "completed"
    },
    "tags": []
   },
   "outputs": [
    {
     "name": "stdout",
     "output_type": "stream",
     "text": [
      "DatetimeIndex(['2013-01-02', '2013-01-03', '2013-01-04', '2013-01-07',\n",
      "               '2013-01-08', '2013-01-09', '2013-01-10', '2013-01-11',\n",
      "               '2013-01-14', '2013-01-15',\n",
      "               ...\n",
      "               '2022-12-16', '2022-12-19', '2022-12-20', '2022-12-21',\n",
      "               '2022-12-22', '2022-12-23', '2022-12-27', '2022-12-28',\n",
      "               '2022-12-29', '2022-12-30'],\n",
      "              dtype='datetime64[ns]', name='Date', length=2518, freq=None)\n"
     ]
    }
   ],
   "source": [
    "print(apple_data.index)"
   ]
  },
  {
   "cell_type": "markdown",
   "id": "19a31d0c",
   "metadata": {
    "papermill": {
     "duration": 0.003395,
     "end_time": "2023-02-05T02:39:49.386088",
     "exception": false,
     "start_time": "2023-02-05T02:39:49.382693",
     "status": "completed"
    },
    "tags": []
   },
   "source": [
    "Displaying Apple's 2022 as a candlestick graph. "
   ]
  },
  {
   "cell_type": "code",
   "execution_count": 6,
   "id": "3cf9a692",
   "metadata": {
    "execution": {
     "iopub.execute_input": "2023-02-05T02:39:49.395073Z",
     "iopub.status.busy": "2023-02-05T02:39:49.394154Z",
     "iopub.status.idle": "2023-02-05T02:39:49.549851Z",
     "shell.execute_reply": "2023-02-05T02:39:49.548882Z"
    },
    "papermill": {
     "duration": 0.162037,
     "end_time": "2023-02-05T02:39:49.551671",
     "exception": false,
     "start_time": "2023-02-05T02:39:49.389634",
     "status": "completed"
    },
    "tags": []
   },
   "outputs": [
    {
     "data": {
      "text/html": [
       "<iframe\n",
       "    scrolling=\"no\"\n",
       "    width=\"100%\"\n",
       "    height=\"545px\"\n",
       "    src=\"iframe_figures/figure_6.html\"\n",
       "    frameborder=\"0\"\n",
       "    allowfullscreen\n",
       "></iframe>\n"
      ]
     },
     "metadata": {},
     "output_type": "display_data"
    }
   ],
   "source": [
    "import plotly.graph_objects as go\n",
    "fig = go.Figure(data=[go.Candlestick(x=apple_data.index[2022:], \n",
    "                                     open=apple_data['Open'], \n",
    "                                     high=apple_data['High'], \n",
    "                                     low=apple_data['Low'], \n",
    "                                     close=apple_data['Close'])])\n",
    "fig.show(renderer='iframe')"
   ]
  }
 ],
 "metadata": {
  "kernelspec": {
   "display_name": "Python 3",
   "language": "python",
   "name": "python3"
  },
  "language_info": {
   "codemirror_mode": {
    "name": "ipython",
    "version": 3
   },
   "file_extension": ".py",
   "mimetype": "text/x-python",
   "name": "python",
   "nbconvert_exporter": "python",
   "pygments_lexer": "ipython3",
   "version": "3.7.12"
  },
  "papermill": {
   "default_parameters": {},
   "duration": 10.877395,
   "end_time": "2023-02-05T02:39:50.378959",
   "environment_variables": {},
   "exception": null,
   "input_path": "__notebook__.ipynb",
   "output_path": "__notebook__.ipynb",
   "parameters": {},
   "start_time": "2023-02-05T02:39:39.501564",
   "version": "2.3.4"
  }
 },
 "nbformat": 4,
 "nbformat_minor": 5
}
